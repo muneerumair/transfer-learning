{
 "cells": [
  {
   "cell_type": "code",
   "execution_count": 1,
   "id": "6516d0e6",
   "metadata": {},
   "outputs": [],
   "source": [
    "import warnings\n",
    "warnings.filterwarnings('ignore')\n",
    "\n",
    "import pandas as pd\n",
    "import numpy as np\n",
    "import math\n",
    "import matplotlib.pyplot as plt\n",
    "from numpy import mean\n",
    "from numpy import array\n",
    "from prettytable import PrettyTable\n",
    "from tqdm import tqdm_notebook\n",
    "\n",
    "from keras.models import Sequential\n",
    "from keras.layers import LSTM\n",
    "from keras.layers import Dense\n",
    "from keras.layers import Bidirectional\n",
    "from keras.layers import Flatten\n",
    "from keras.layers import TimeDistributed\n",
    "from keras.layers.convolutional import Conv1D\n",
    "from keras.layers.convolutional import MaxPooling1D\n",
    "from statsmodels.tsa.arima_model import ARIMA\n",
    "\n",
    "from sklearn.metrics import mean_squared_error\n",
    "from sklearn.metrics import r2_score\n",
    "from sklearn.metrics import mean_absolute_error\n",
    "from sklearn.metrics import median_absolute_error"
   ]
  },
  {
   "cell_type": "code",
   "execution_count": 2,
   "id": "a345800d",
   "metadata": {},
   "outputs": [],
   "source": [
    "#this CSV file contains clean data\n",
    "data = pd.read_csv('./Chicago-clean-data.csv')\n",
    "data.index = pd.DatetimeIndex(data.Date)\n",
    "data = data.sort_index()"
   ]
  },
  {
   "cell_type": "code",
   "execution_count": 3,
   "id": "72134840",
   "metadata": {},
   "outputs": [
    {
     "name": "stdout",
     "output_type": "stream",
     "text": [
      "Range of dates: 01/01/2001 01:00:00 PM to 12/31/2019 12:58:00 AM\n"
     ]
    }
   ],
   "source": [
    "print('Range of dates: {} to {}'.format(data.Date.min(), data.Date.max()))"
   ]
  },
  {
   "cell_type": "code",
   "execution_count": 4,
   "id": "4d91798c",
   "metadata": {},
   "outputs": [],
   "source": [
    "data['Date']=pd.to_datetime(data['Date'])"
   ]
  },
  {
   "cell_type": "code",
   "execution_count": 5,
   "id": "3ec9bb02",
   "metadata": {},
   "outputs": [],
   "source": [
    "data['Year'] = data.index.year\n",
    "data['Month'] = data.index.month\n",
    "data['dayOfWeek'] = data.index.dayofweek\n",
    "data['dayOfMonth'] = data.index.day\n",
    "data['dayOfYear'] = data.index.dayofyear"
   ]
  },
  {
   "cell_type": "code",
   "execution_count": 6,
   "id": "10b35635",
   "metadata": {},
   "outputs": [],
   "source": [
    "def split_sequence(sequence, n_steps):\n",
    "    X, y = list(), list()\n",
    "    for i in range(len(sequence)):\n",
    "        # find the end of this pattern\n",
    "        end_ix = i + n_steps\n",
    "        # check if we are beyond the sequence\n",
    "        if end_ix > len(sequence)-1:\n",
    "            break\n",
    "        # gather input and output parts of the pattern\n",
    "        seq_x, seq_y = sequence[i:end_ix], sequence[end_ix]\n",
    "        X.append(seq_x)\n",
    "        y.append(seq_y)\n",
    "    return array(X), array(y)"
   ]
  },
  {
   "cell_type": "code",
   "execution_count": 7,
   "id": "6420aae1",
   "metadata": {},
   "outputs": [],
   "source": [
    "data_tr = data.loc['2001-01-01':'2018-12-31']\n",
    "data_test = data.loc['2019-01-01':'2019-12-31']"
   ]
  },
  {
   "cell_type": "code",
   "execution_count": 8,
   "id": "16e32c14",
   "metadata": {},
   "outputs": [
    {
     "data": {
      "text/plain": [
       "[20.0,\n",
       " 1.0,\n",
       " 18.0,\n",
       " 22.0,\n",
       " 10.0,\n",
       " 12.0,\n",
       " 4.0,\n",
       " 5.0,\n",
       " 9.0,\n",
       " 8.0,\n",
       " 14.0,\n",
       " 16.0,\n",
       " 7.0,\n",
       " 3.0,\n",
       " 25.0,\n",
       " 6.0,\n",
       " 2.0,\n",
       " 24.0,\n",
       " 11.0,\n",
       " 17.0,\n",
       " 19.0,\n",
       " 15.0]"
      ]
     },
     "execution_count": 8,
     "metadata": {},
     "output_type": "execute_result"
    }
   ],
   "source": [
    "listOfDist = list(data['District'].unique())\n",
    "listOfDist"
   ]
  },
  {
   "cell_type": "code",
   "execution_count": 9,
   "id": "2460b03c",
   "metadata": {},
   "outputs": [],
   "source": [
    "train_d = []\n",
    "df = data_tr[data_tr['District'] == 1.0]\n",
    "df_gr = df.groupby(['Year', 'Month']).count()\n",
    "train_d.append(list(df_gr['Date'].values))"
   ]
  },
  {
   "cell_type": "code",
   "execution_count": 10,
   "id": "e25ff1da",
   "metadata": {},
   "outputs": [
    {
     "data": {
      "text/plain": [
       "[[9,\n",
       "  5,\n",
       "  5,\n",
       "  10,\n",
       "  3,\n",
       "  4,\n",
       "  6,\n",
       "  12,\n",
       "  14,\n",
       "  14,\n",
       "  13,\n",
       "  15,\n",
       "  34,\n",
       "  22,\n",
       "  28,\n",
       "  484,\n",
       "  1384,\n",
       "  1407,\n",
       "  1461,\n",
       "  1452,\n",
       "  1441,\n",
       "  1441,\n",
       "  1235,\n",
       "  1281,\n",
       "  1344,\n",
       "  1240,\n",
       "  1426,\n",
       "  1333,\n",
       "  1337,\n",
       "  1449,\n",
       "  1453,\n",
       "  1387,\n",
       "  1332,\n",
       "  1422,\n",
       "  1273,\n",
       "  1291,\n",
       "  1235,\n",
       "  1091,\n",
       "  1370,\n",
       "  1243,\n",
       "  1306,\n",
       "  1414,\n",
       "  1568,\n",
       "  1566,\n",
       "  1340,\n",
       "  1465,\n",
       "  1490,\n",
       "  1376,\n",
       "  1502,\n",
       "  1146,\n",
       "  1299,\n",
       "  1270,\n",
       "  1474,\n",
       "  1480,\n",
       "  1527,\n",
       "  1460,\n",
       "  1407,\n",
       "  1418,\n",
       "  1235,\n",
       "  1218,\n",
       "  1179,\n",
       "  1049,\n",
       "  1261,\n",
       "  1261,\n",
       "  1318,\n",
       "  1537,\n",
       "  1504,\n",
       "  1494,\n",
       "  1344,\n",
       "  1437,\n",
       "  1321,\n",
       "  1168,\n",
       "  1278,\n",
       "  1044,\n",
       "  1256,\n",
       "  1186,\n",
       "  1343,\n",
       "  1332,\n",
       "  1315,\n",
       "  1277,\n",
       "  1156,\n",
       "  1252,\n",
       "  1067,\n",
       "  1104,\n",
       "  1119,\n",
       "  1007,\n",
       "  1155,\n",
       "  1265,\n",
       "  1211,\n",
       "  1215,\n",
       "  1428,\n",
       "  1379,\n",
       "  1256,\n",
       "  1240,\n",
       "  1206,\n",
       "  1127,\n",
       "  966,\n",
       "  927,\n",
       "  1003,\n",
       "  978,\n",
       "  1049,\n",
       "  1123,\n",
       "  1179,\n",
       "  1006,\n",
       "  1089,\n",
       "  999,\n",
       "  942,\n",
       "  896,\n",
       "  953,\n",
       "  806,\n",
       "  974,\n",
       "  865,\n",
       "  929,\n",
       "  991,\n",
       "  1090,\n",
       "  1078,\n",
       "  980,\n",
       "  1026,\n",
       "  933,\n",
       "  778,\n",
       "  804,\n",
       "  646,\n",
       "  837,\n",
       "  778,\n",
       "  876,\n",
       "  1000,\n",
       "  1038,\n",
       "  1079,\n",
       "  1001,\n",
       "  964,\n",
       "  913,\n",
       "  875,\n",
       "  892,\n",
       "  763,\n",
       "  964,\n",
       "  841,\n",
       "  898,\n",
       "  1010,\n",
       "  1001,\n",
       "  1106,\n",
       "  1001,\n",
       "  1063,\n",
       "  953,\n",
       "  888,\n",
       "  841,\n",
       "  767,\n",
       "  841,\n",
       "  870,\n",
       "  1039,\n",
       "  952,\n",
       "  1086,\n",
       "  1048,\n",
       "  964,\n",
       "  994,\n",
       "  949,\n",
       "  938,\n",
       "  800,\n",
       "  743,\n",
       "  826,\n",
       "  791,\n",
       "  934,\n",
       "  954,\n",
       "  970,\n",
       "  1036,\n",
       "  958,\n",
       "  881,\n",
       "  808,\n",
       "  837,\n",
       "  824,\n",
       "  583,\n",
       "  817,\n",
       "  847,\n",
       "  842,\n",
       "  920,\n",
       "  1088,\n",
       "  1111,\n",
       "  953,\n",
       "  978,\n",
       "  885,\n",
       "  981,\n",
       "  1012,\n",
       "  867,\n",
       "  985,\n",
       "  906,\n",
       "  1120,\n",
       "  1050,\n",
       "  1238,\n",
       "  1131,\n",
       "  1117,\n",
       "  1044,\n",
       "  1008,\n",
       "  1020,\n",
       "  963,\n",
       "  924,\n",
       "  1076,\n",
       "  1074,\n",
       "  1155,\n",
       "  1267,\n",
       "  1250,\n",
       "  1559,\n",
       "  1131,\n",
       "  1185,\n",
       "  1251,\n",
       "  1135,\n",
       "  1138,\n",
       "  976,\n",
       "  1125,\n",
       "  1134,\n",
       "  1325,\n",
       "  1260,\n",
       "  1258,\n",
       "  1424,\n",
       "  1146,\n",
       "  1133,\n",
       "  996,\n",
       "  1155]]"
      ]
     },
     "execution_count": 10,
     "metadata": {},
     "output_type": "execute_result"
    }
   ],
   "source": [
    "train_d"
   ]
  },
  {
   "cell_type": "code",
   "execution_count": 11,
   "id": "bb9f2c5b",
   "metadata": {},
   "outputs": [],
   "source": [
    "test_d = []\n",
    "df = data_test[data_test['District'] == 2.0 ]\n",
    "df_gr = df.groupby(['Month']).count()\n",
    "test_d.append(list(df_gr['Date'].values))"
   ]
  },
  {
   "cell_type": "code",
   "execution_count": 13,
   "id": "eeaa6413",
   "metadata": {},
   "outputs": [
    {
     "data": {
      "application/vnd.jupyter.widget-view+json": {
       "model_id": "db38c3b338034b049299be6c0f224269",
       "version_major": 2,
       "version_minor": 0
      },
      "text/plain": [
       "  0%|          | 0/1 [00:00<?, ?it/s]"
      ]
     },
     "metadata": {},
     "output_type": "display_data"
    },
    {
     "data": {
      "application/vnd.jupyter.widget-view+json": {
       "model_id": "",
       "version_major": 2,
       "version_minor": 0
      },
      "text/plain": [
       "  0%|          | 0/12 [00:00<?, ?it/s]"
      ]
     },
     "metadata": {},
     "output_type": "display_data"
    },
    {
     "name": "stdout",
     "output_type": "stream",
     "text": [
      "WARNING:tensorflow:11 out of the last 11 calls to <function Model.make_predict_function.<locals>.predict_function at 0x000001E957A75A60> triggered tf.function retracing. Tracing is expensive and the excessive number of tracings could be due to (1) creating @tf.function repeatedly in a loop, (2) passing tensors with different shapes, (3) passing Python objects instead of tensors. For (1), please define your @tf.function outside of the loop. For (2), @tf.function has experimental_relax_shapes=True option that relaxes argument shapes that can avoid unnecessary retracing. For (3), please refer to https://www.tensorflow.org/tutorials/customization/performance#python_or_tensor_args and https://www.tensorflow.org/api_docs/python/tf/function for  more details.\n",
      "WARNING:tensorflow:11 out of the last 11 calls to <function Model.make_predict_function.<locals>.predict_function at 0x000001E942548310> triggered tf.function retracing. Tracing is expensive and the excessive number of tracings could be due to (1) creating @tf.function repeatedly in a loop, (2) passing tensors with different shapes, (3) passing Python objects instead of tensors. For (1), please define your @tf.function outside of the loop. For (2), @tf.function has experimental_relax_shapes=True option that relaxes argument shapes that can avoid unnecessary retracing. For (3), please refer to https://www.tensorflow.org/tutorials/customization/performance#python_or_tensor_args and https://www.tensorflow.org/api_docs/python/tf/function for  more details.\n",
      "WARNING:tensorflow:11 out of the last 11 calls to <function Model.make_predict_function.<locals>.predict_function at 0x000001E937F98EE0> triggered tf.function retracing. Tracing is expensive and the excessive number of tracings could be due to (1) creating @tf.function repeatedly in a loop, (2) passing tensors with different shapes, (3) passing Python objects instead of tensors. For (1), please define your @tf.function outside of the loop. For (2), @tf.function has experimental_relax_shapes=True option that relaxes argument shapes that can avoid unnecessary retracing. For (3), please refer to https://www.tensorflow.org/tutorials/customization/performance#python_or_tensor_args and https://www.tensorflow.org/api_docs/python/tf/function for  more details.\n",
      "WARNING:tensorflow:11 out of the last 11 calls to <function Model.make_predict_function.<locals>.predict_function at 0x000001E89A157040> triggered tf.function retracing. Tracing is expensive and the excessive number of tracings could be due to (1) creating @tf.function repeatedly in a loop, (2) passing tensors with different shapes, (3) passing Python objects instead of tensors. For (1), please define your @tf.function outside of the loop. For (2), @tf.function has experimental_relax_shapes=True option that relaxes argument shapes that can avoid unnecessary retracing. For (3), please refer to https://www.tensorflow.org/tutorials/customization/performance#python_or_tensor_args and https://www.tensorflow.org/api_docs/python/tf/function for  more details.\n",
      "WARNING:tensorflow:11 out of the last 11 calls to <function Model.make_predict_function.<locals>.predict_function at 0x000001E912433040> triggered tf.function retracing. Tracing is expensive and the excessive number of tracings could be due to (1) creating @tf.function repeatedly in a loop, (2) passing tensors with different shapes, (3) passing Python objects instead of tensors. For (1), please define your @tf.function outside of the loop. For (2), @tf.function has experimental_relax_shapes=True option that relaxes argument shapes that can avoid unnecessary retracing. For (3), please refer to https://www.tensorflow.org/tutorials/customization/performance#python_or_tensor_args and https://www.tensorflow.org/api_docs/python/tf/function for  more details.\n",
      "WARNING:tensorflow:11 out of the last 11 calls to <function Model.make_predict_function.<locals>.predict_function at 0x000001E92CBBB940> triggered tf.function retracing. Tracing is expensive and the excessive number of tracings could be due to (1) creating @tf.function repeatedly in a loop, (2) passing tensors with different shapes, (3) passing Python objects instead of tensors. For (1), please define your @tf.function outside of the loop. For (2), @tf.function has experimental_relax_shapes=True option that relaxes argument shapes that can avoid unnecessary retracing. For (3), please refer to https://www.tensorflow.org/tutorials/customization/performance#python_or_tensor_args and https://www.tensorflow.org/api_docs/python/tf/function for  more details.\n",
      "WARNING:tensorflow:11 out of the last 11 calls to <function Model.make_predict_function.<locals>.predict_function at 0x000001E899EACD30> triggered tf.function retracing. Tracing is expensive and the excessive number of tracings could be due to (1) creating @tf.function repeatedly in a loop, (2) passing tensors with different shapes, (3) passing Python objects instead of tensors. For (1), please define your @tf.function outside of the loop. For (2), @tf.function has experimental_relax_shapes=True option that relaxes argument shapes that can avoid unnecessary retracing. For (3), please refer to https://www.tensorflow.org/tutorials/customization/performance#python_or_tensor_args and https://www.tensorflow.org/api_docs/python/tf/function for  more details.\n",
      "WARNING:tensorflow:11 out of the last 11 calls to <function Model.make_predict_function.<locals>.predict_function at 0x000001E963D7B9D0> triggered tf.function retracing. Tracing is expensive and the excessive number of tracings could be due to (1) creating @tf.function repeatedly in a loop, (2) passing tensors with different shapes, (3) passing Python objects instead of tensors. For (1), please define your @tf.function outside of the loop. For (2), @tf.function has experimental_relax_shapes=True option that relaxes argument shapes that can avoid unnecessary retracing. For (3), please refer to https://www.tensorflow.org/tutorials/customization/performance#python_or_tensor_args and https://www.tensorflow.org/api_docs/python/tf/function for  more details.\n",
      "WARNING:tensorflow:11 out of the last 11 calls to <function Model.make_predict_function.<locals>.predict_function at 0x000001E91D317280> triggered tf.function retracing. Tracing is expensive and the excessive number of tracings could be due to (1) creating @tf.function repeatedly in a loop, (2) passing tensors with different shapes, (3) passing Python objects instead of tensors. For (1), please define your @tf.function outside of the loop. For (2), @tf.function has experimental_relax_shapes=True option that relaxes argument shapes that can avoid unnecessary retracing. For (3), please refer to https://www.tensorflow.org/tutorials/customization/performance#python_or_tensor_args and https://www.tensorflow.org/api_docs/python/tf/function for  more details.\n",
      "WARNING:tensorflow:11 out of the last 11 calls to <function Model.make_predict_function.<locals>.predict_function at 0x000001E90A97AF70> triggered tf.function retracing. Tracing is expensive and the excessive number of tracings could be due to (1) creating @tf.function repeatedly in a loop, (2) passing tensors with different shapes, (3) passing Python objects instead of tensors. For (1), please define your @tf.function outside of the loop. For (2), @tf.function has experimental_relax_shapes=True option that relaxes argument shapes that can avoid unnecessary retracing. For (3), please refer to https://www.tensorflow.org/tutorials/customization/performance#python_or_tensor_args and https://www.tensorflow.org/api_docs/python/tf/function for  more details.\n",
      "WARNING:tensorflow:11 out of the last 11 calls to <function Model.make_predict_function.<locals>.predict_function at 0x000001E93CB310D0> triggered tf.function retracing. Tracing is expensive and the excessive number of tracings could be due to (1) creating @tf.function repeatedly in a loop, (2) passing tensors with different shapes, (3) passing Python objects instead of tensors. For (1), please define your @tf.function outside of the loop. For (2), @tf.function has experimental_relax_shapes=True option that relaxes argument shapes that can avoid unnecessary retracing. For (3), please refer to https://www.tensorflow.org/tutorials/customization/performance#python_or_tensor_args and https://www.tensorflow.org/api_docs/python/tf/function for  more details.\n"
     ]
    },
    {
     "name": "stdout",
     "output_type": "stream",
     "text": [
      "WARNING:tensorflow:11 out of the last 11 calls to <function Model.make_predict_function.<locals>.predict_function at 0x000001E93048FA60> triggered tf.function retracing. Tracing is expensive and the excessive number of tracings could be due to (1) creating @tf.function repeatedly in a loop, (2) passing tensors with different shapes, (3) passing Python objects instead of tensors. For (1), please define your @tf.function outside of the loop. For (2), @tf.function has experimental_relax_shapes=True option that relaxes argument shapes that can avoid unnecessary retracing. For (3), please refer to https://www.tensorflow.org/tutorials/customization/performance#python_or_tensor_args and https://www.tensorflow.org/api_docs/python/tf/function for  more details.\n",
      "District: 1\n",
      "Actuals: [789, 705, 808, 769, 947, 1001, 942, 944, 967, 890, 750, 765]\n",
      "Predictions: [794.1189, 775.68835, 747.43945, 764.906, 764.3059, 883.4397, 965.18286, 962.89526, 947.44617, 936.62964, 909.8582, 839.994]\n"
     ]
    },
    {
     "data": {
      "image/png": "[encoded data removed]",
      "text/plain": [
       "<Figure size 432x288 with 1 Axes>"
      ]
     },
     "metadata": {
      "needs_background": "light"
     },
     "output_type": "display_data"
    },
    {
     "name": "stdout",
     "output_type": "stream",
     "text": [
      "R-squared: 0.210\n",
      "Mean Absolute Error:65.319\n",
      "Median Absolute Error:53.595\n",
      "Mean Squared Error:86.859\n"
     ]
    }
   ],
   "source": [
    "# prepare situation\n",
    "window = 3\n",
    "predTot = list()\n",
    "testTot = list()\n",
    "\n",
    "# walk forward over time steps in test\n",
    "for distNum in tqdm_notebook(range(len(train_d))):\n",
    "    \n",
    "    history = train_d[distNum]\n",
    "    test = test_d[distNum]\n",
    "    preds = []\n",
    "    for t in tqdm_notebook(range(len(test)), leave=False):\n",
    "        \n",
    "        length = len(history)\n",
    "        \n",
    "        # split into samples\n",
    "        X, y = split_sequence(history, window)\n",
    "        \n",
    "        # reshape from [samples, timesteps] into [samples, timesteps, features]\n",
    "        n_features = 1\n",
    "        X = X.reshape((X.shape[0], X.shape[1], n_features))\n",
    "        \n",
    "        model = Sequential()\n",
    "        model.add(Bidirectional(LSTM(50, activation='relu'), input_shape=(window, n_features)))\n",
    "        model.add(Dense(1))\n",
    "        model.compile(optimizer='adam', loss='mse')\n",
    "        \n",
    "        # fit model\n",
    "        model.fit(X, y, epochs=200, verbose=0)\n",
    "        \n",
    "        X_test = array([history[i] for i in range(length-window, length)])\n",
    "        X_test = X_test.reshape((1, window, n_features))\n",
    "        yhat = model.predict(X_test, verbose=0)\n",
    "        \n",
    "        obs = test[t]\n",
    "        preds.append(yhat.reshape((1,)))\n",
    "        history.append(obs)\n",
    "    \n",
    "    preds_new = [i[0] for i in preds]\n",
    "    print('District: {}'.format(distNum+1))\n",
    "    print('Actuals: {}'.format(test))\n",
    "    print('Predictions: {}'.format(preds_new))\n",
    "    \n",
    "    # plot\n",
    "    plt.plot(test)\n",
    "    plt.plot(preds_new, color='red')\n",
    "    plt.title('District 1 MONTH WISE PREDICTION')\n",
    "    plt.xlabel(\"Month\")\n",
    "    plt.ylabel(\"Numbers of Crime\")\n",
    "    plt.legend([\"Actual\", \"Predition\"])\n",
    "    plt.show()\n",
    "    \n",
    "    testTot = testTot + test\n",
    "    predTot = predTot + preds_new\n",
    "    \n",
    "print('R-squared: %.3f' %r2_score(testTot, predTot))\n",
    "print('Mean Absolute Error:%.3f'%mean_absolute_error(testTot, predTot))\n",
    "print('Median Absolute Error:%.3f'%median_absolute_error(testTot, predTot))\n",
    "print('Mean Squared Error:%.3f'%mean_squared_error(testTot, predTot) ** .5)"
   ]
  },
  {
   "cell_type": "code",
   "execution_count": 14,
   "id": "025896b4",
   "metadata": {},
   "outputs": [],
   "source": [
    "test_d = []\n",
    "df = data_test[data_test['District'] == 3.0]\n",
    "df_gr = df.groupby(['Month']).count()\n",
    "test_d.append(list(df_gr['Date'].values))"
   ]
  },
  {
   "cell_type": "code",
   "execution_count": 15,
   "id": "3b12ca5d",
   "metadata": {},
   "outputs": [
    {
     "data": {
      "application/vnd.jupyter.widget-view+json": {
       "model_id": "c82c2d5f3144402fa3bfe060627457ca",
       "version_major": 2,
       "version_minor": 0
      },
      "text/plain": [
       "  0%|          | 0/1 [00:00<?, ?it/s]"
      ]
     },
     "metadata": {},
     "output_type": "display_data"
    },
    {
     "data": {
      "application/vnd.jupyter.widget-view+json": {
       "model_id": "",
       "version_major": 2,
       "version_minor": 0
      },
      "text/plain": [
       "  0%|          | 0/12 [00:00<?, ?it/s]"
      ]
     },
     "metadata": {},
     "output_type": "display_data"
    },
    {
     "name": "stdout",
     "output_type": "stream",
     "text": [
      "District: 1\n",
      "Actuals: [869, 827, 907, 959, 1123, 1004, 1126, 1046, 1014, 951, 832, 886]\n",
      "Predictions: [765.6805, 855.90295, 871.9653, 905.16144, 966.5981, 1073.7167, 1089.4592, 1083.0084, 1109.4431, 1027.5809, 972.8725, 901.656]\n"
     ]
    },
    {
     "data": {
      "image/png": "[encoded data removed]",
      "text/plain": [
       "<Figure size 432x288 with 1 Axes>"
      ]
     },
     "metadata": {
      "needs_background": "light"
     },
     "output_type": "display_data"
    },
    {
     "name": "stdout",
     "output_type": "stream",
     "text": [
      "R-squared: 0.293\n",
      "Mean Absolute Error:70.776\n",
      "Median Absolute Error:61.778\n",
      "Mean Squared Error:83.030\n"
     ]
    }
   ],
   "source": [
    "# prepare situation\n",
    "window = 3\n",
    "predTot = list()\n",
    "testTot = list()\n",
    "\n",
    "# walk forward over time steps in test\n",
    "for distNum in tqdm_notebook(range(len(train_d))):\n",
    "    \n",
    "    history = train_d[distNum]\n",
    "    test = test_d[distNum]\n",
    "    preds = []\n",
    "    for t in tqdm_notebook(range(len(test)), leave=False):\n",
    "        \n",
    "        length = len(history)\n",
    "        \n",
    "        # split into samples\n",
    "        X, y = split_sequence(history, window)\n",
    "        \n",
    "        # reshape from [samples, timesteps] into [samples, timesteps, features]\n",
    "        n_features = 1\n",
    "        X = X.reshape((X.shape[0], X.shape[1], n_features))\n",
    "        \n",
    "        \n",
    "        X_test = array([history[i] for i in range(length-window, length)])\n",
    "        X_test = X_test.reshape((1, window, n_features))\n",
    "        yhat = model.predict(X_test, verbose=0)\n",
    "        \n",
    "        obs = test[t]\n",
    "        preds.append(yhat.reshape((1,)))\n",
    "        history.append(obs)\n",
    "    \n",
    "    preds_new = [i[0] for i in preds]\n",
    "    print('District: {}'.format(distNum+1))\n",
    "    print('Actuals: {}'.format(test))\n",
    "    print('Predictions: {}'.format(preds_new))\n",
    "    \n",
    "    # plot\n",
    "    plt.plot(test)\n",
    "    plt.plot(preds_new, color='red')\n",
    "    plt.title('District 2 MONTH WISE PREDICTION')\n",
    "    plt.xlabel(\"Month\")\n",
    "    plt.ylabel(\"Numbers of Crime\")\n",
    "    plt.legend([\"Actual\", \"Predition\"])\n",
    "    plt.show()\n",
    "    \n",
    "    testTot = testTot + test\n",
    "    predTot = predTot + preds_new\n",
    "\n",
    "print('R-squared: %.3f' %r2_score(testTot, predTot))\n",
    "print('Mean Absolute Error:%.3f'%mean_absolute_error(testTot, predTot))\n",
    "print('Median Absolute Error:%.3f'%median_absolute_error(testTot, predTot))\n",
    "print('Mean Squared Error:%.3f'%mean_squared_error(testTot, predTot) ** .5)"
   ]
  },
  {
   "cell_type": "code",
   "execution_count": null,
   "id": "cf527f43",
   "metadata": {},
   "outputs": [],
   "source": []
  }
 ],
 "metadata": {
  "kernelspec": {
   "display_name": "Python 3",
   "language": "python",
   "name": "python3"
  },
  "language_info": {
   "codemirror_mode": {
    "name": "ipython",
    "version": 3
   },
   "file_extension": ".py",
   "mimetype": "text/x-python",
   "name": "python",
   "nbconvert_exporter": "python",
   "pygments_lexer": "ipython3",
   "version": "3.8.5"
  }
 },
 "nbformat": 4,
 "nbformat_minor": 5
}
