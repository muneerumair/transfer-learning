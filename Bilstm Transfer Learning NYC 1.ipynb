{
 "cells": [
  {
   "cell_type": "code",
   "execution_count": 1,
   "id": "6516d0e6",
   "metadata": {},
   "outputs": [],
   "source": [
    "import warnings\n",
    "warnings.filterwarnings('ignore')\n",
    "\n",
    "import pandas as pd\n",
    "import numpy as np\n",
    "import math\n",
    "import matplotlib.pyplot as plt\n",
    "from numpy import mean\n",
    "from numpy import array\n",
    "from prettytable import PrettyTable\n",
    "from tqdm import tqdm_notebook\n",
    "\n",
    "from keras.models import Sequential\n",
    "from keras.layers import LSTM\n",
    "from keras.layers import Dense\n",
    "from keras.layers import Bidirectional\n",
    "from keras.layers import Flatten\n",
    "from keras.layers import TimeDistributed\n",
    "from keras.layers.convolutional import Conv1D\n",
    "from keras.layers.convolutional import MaxPooling1D\n",
    "from statsmodels.tsa.arima_model import ARIMA\n",
    "\n",
    "from sklearn.metrics import mean_squared_error\n",
    "from sklearn.metrics import r2_score\n",
    "from sklearn.metrics import mean_absolute_error\n",
    "from sklearn.metrics import median_absolute_error"
   ]
  },
  {
   "cell_type": "code",
   "execution_count": 2,
   "id": "a345800d",
   "metadata": {},
   "outputs": [],
   "source": [
    "#this CSV file contains clean data\n",
    "data = pd.read_csv('./data-clean-NYC-F.csv')\n",
    "data.index = pd.DatetimeIndex(data.CMPLNT_FR_DT)\n",
    "data = data.sort_index()"
   ]
  },
  {
   "cell_type": "code",
   "execution_count": 3,
   "id": "72134840",
   "metadata": {},
   "outputs": [
    {
     "name": "stdout",
     "output_type": "stream",
     "text": [
      "Range of dates: 2006-01-01 to 2019-12-31\n"
     ]
    }
   ],
   "source": [
    "print('Range of dates: {} to {}'.format(data.CMPLNT_FR_DT.min(), data.CMPLNT_FR_DT.max()))"
   ]
  },
  {
   "cell_type": "code",
   "execution_count": 4,
   "id": "4d91798c",
   "metadata": {},
   "outputs": [],
   "source": [
    "data['CMPLNT_FR_DT']=pd.to_datetime(data['CMPLNT_FR_DT'])"
   ]
  },
  {
   "cell_type": "code",
   "execution_count": 5,
   "id": "3ec9bb02",
   "metadata": {},
   "outputs": [],
   "source": [
    "data['Year'] = data.index.year\n",
    "data['Month'] = data.index.month\n",
    "data['dayOfWeek'] = data.index.dayofweek\n",
    "data['dayOfMonth'] = data.index.day\n",
    "data['dayOfYear'] = data.index.dayofyear"
   ]
  },
  {
   "cell_type": "code",
   "execution_count": 6,
   "id": "10b35635",
   "metadata": {},
   "outputs": [],
   "source": [
    "def split_sequence(sequence, n_steps):\n",
    "    X, y = list(), list()\n",
    "    for i in range(len(sequence)):\n",
    "        # find the end of this pattern\n",
    "        end_ix = i + n_steps\n",
    "        # check if we are beyond the sequence\n",
    "        if end_ix > len(sequence)-1:\n",
    "            break\n",
    "        # gather input and output parts of the pattern\n",
    "        seq_x, seq_y = sequence[i:end_ix], sequence[end_ix]\n",
    "        X.append(seq_x)\n",
    "        y.append(seq_y)\n",
    "    return array(X), array(y)"
   ]
  },
  {
   "cell_type": "code",
   "execution_count": 7,
   "id": "6420aae1",
   "metadata": {},
   "outputs": [],
   "source": [
    "data_tr = data.loc['2006-01-01':'2018-12-31']\n",
    "data_test = data.loc['2019-01-01':'2019-12-31']"
   ]
  },
  {
   "cell_type": "code",
   "execution_count": 8,
   "id": "16e32c14",
   "metadata": {},
   "outputs": [
    {
     "data": {
      "text/plain": [
       "['BROOKLYN', 'MANHATTAN', 'QUEENS', 'BRONX', 'STATEN ISLAND']"
      ]
     },
     "execution_count": 8,
     "metadata": {},
     "output_type": "execute_result"
    }
   ],
   "source": [
    "listOfDist = list(data['BORO_NM'].unique())\n",
    "listOfDist"
   ]
  },
  {
   "cell_type": "code",
   "execution_count": 9,
   "id": "2460b03c",
   "metadata": {},
   "outputs": [],
   "source": [
    "train_d = []\n",
    "df = data_tr[data_tr['BORO_NM'] == 'BROOKLYN']\n",
    "df_gr = df.groupby(['Year', 'Month']).count()\n",
    "train_d.append(list(df_gr['CMPLNT_FR_DT'].values))"
   ]
  },
  {
   "cell_type": "code",
   "execution_count": 10,
   "id": "bb9f2c5b",
   "metadata": {},
   "outputs": [],
   "source": [
    "test_d = []\n",
    "df = data_test[data_test['BORO_NM'] == 'BROOKLYN']\n",
    "df_gr = df.groupby(['Month']).count()\n",
    "test_d.append(list(df_gr['CMPLNT_FR_DT'].values))"
   ]
  },
  {
   "cell_type": "code",
   "execution_count": 13,
   "id": "eeaa6413",
   "metadata": {},
   "outputs": [
    {
     "data": {
      "application/vnd.jupyter.widget-view+json": {
       "model_id": "82b1562946e6472bbf5e43e8f4a24060",
       "version_major": 2,
       "version_minor": 0
      },
      "text/plain": [
       "  0%|          | 0/1 [00:00<?, ?it/s]"
      ]
     },
     "metadata": {},
     "output_type": "display_data"
    },
    {
     "data": {
      "application/vnd.jupyter.widget-view+json": {
       "model_id": "",
       "version_major": 2,
       "version_minor": 0
      },
      "text/plain": [
       "  0%|          | 0/12 [00:00<?, ?it/s]"
      ]
     },
     "metadata": {},
     "output_type": "display_data"
    },
    {
     "name": "stdout",
     "output_type": "stream",
     "text": [
      "WARNING:tensorflow:11 out of the last 11 calls to <function Model.make_predict_function.<locals>.predict_function at 0x000001493F3B1430> triggered tf.function retracing. Tracing is expensive and the excessive number of tracings could be due to (1) creating @tf.function repeatedly in a loop, (2) passing tensors with different shapes, (3) passing Python objects instead of tensors. For (1), please define your @tf.function outside of the loop. For (2), @tf.function has experimental_relax_shapes=True option that relaxes argument shapes that can avoid unnecessary retracing. For (3), please refer to https://www.tensorflow.org/tutorials/customization/performance#python_or_tensor_args and https://www.tensorflow.org/api_docs/python/tf/function for  more details.\n",
      "WARNING:tensorflow:11 out of the last 11 calls to <function Model.make_predict_function.<locals>.predict_function at 0x000001498B48D040> triggered tf.function retracing. Tracing is expensive and the excessive number of tracings could be due to (1) creating @tf.function repeatedly in a loop, (2) passing tensors with different shapes, (3) passing Python objects instead of tensors. For (1), please define your @tf.function outside of the loop. For (2), @tf.function has experimental_relax_shapes=True option that relaxes argument shapes that can avoid unnecessary retracing. For (3), please refer to https://www.tensorflow.org/tutorials/customization/performance#python_or_tensor_args and https://www.tensorflow.org/api_docs/python/tf/function for  more details.\n",
      "WARNING:tensorflow:11 out of the last 11 calls to <function Model.make_predict_function.<locals>.predict_function at 0x000001499B67F5E0> triggered tf.function retracing. Tracing is expensive and the excessive number of tracings could be due to (1) creating @tf.function repeatedly in a loop, (2) passing tensors with different shapes, (3) passing Python objects instead of tensors. For (1), please define your @tf.function outside of the loop. For (2), @tf.function has experimental_relax_shapes=True option that relaxes argument shapes that can avoid unnecessary retracing. For (3), please refer to https://www.tensorflow.org/tutorials/customization/performance#python_or_tensor_args and https://www.tensorflow.org/api_docs/python/tf/function for  more details.\n",
      "WARNING:tensorflow:11 out of the last 11 calls to <function Model.make_predict_function.<locals>.predict_function at 0x00000149CA8C1EE0> triggered tf.function retracing. Tracing is expensive and the excessive number of tracings could be due to (1) creating @tf.function repeatedly in a loop, (2) passing tensors with different shapes, (3) passing Python objects instead of tensors. For (1), please define your @tf.function outside of the loop. For (2), @tf.function has experimental_relax_shapes=True option that relaxes argument shapes that can avoid unnecessary retracing. For (3), please refer to https://www.tensorflow.org/tutorials/customization/performance#python_or_tensor_args and https://www.tensorflow.org/api_docs/python/tf/function for  more details.\n",
      "WARNING:tensorflow:11 out of the last 11 calls to <function Model.make_predict_function.<locals>.predict_function at 0x00000149CB510C10> triggered tf.function retracing. Tracing is expensive and the excessive number of tracings could be due to (1) creating @tf.function repeatedly in a loop, (2) passing tensors with different shapes, (3) passing Python objects instead of tensors. For (1), please define your @tf.function outside of the loop. For (2), @tf.function has experimental_relax_shapes=True option that relaxes argument shapes that can avoid unnecessary retracing. For (3), please refer to https://www.tensorflow.org/tutorials/customization/performance#python_or_tensor_args and https://www.tensorflow.org/api_docs/python/tf/function for  more details.\n",
      "WARNING:tensorflow:11 out of the last 11 calls to <function Model.make_predict_function.<locals>.predict_function at 0x00000149CAC833A0> triggered tf.function retracing. Tracing is expensive and the excessive number of tracings could be due to (1) creating @tf.function repeatedly in a loop, (2) passing tensors with different shapes, (3) passing Python objects instead of tensors. For (1), please define your @tf.function outside of the loop. For (2), @tf.function has experimental_relax_shapes=True option that relaxes argument shapes that can avoid unnecessary retracing. For (3), please refer to https://www.tensorflow.org/tutorials/customization/performance#python_or_tensor_args and https://www.tensorflow.org/api_docs/python/tf/function for  more details.\n",
      "WARNING:tensorflow:11 out of the last 11 calls to <function Model.make_predict_function.<locals>.predict_function at 0x00000149CB1D9940> triggered tf.function retracing. Tracing is expensive and the excessive number of tracings could be due to (1) creating @tf.function repeatedly in a loop, (2) passing tensors with different shapes, (3) passing Python objects instead of tensors. For (1), please define your @tf.function outside of the loop. For (2), @tf.function has experimental_relax_shapes=True option that relaxes argument shapes that can avoid unnecessary retracing. For (3), please refer to https://www.tensorflow.org/tutorials/customization/performance#python_or_tensor_args and https://www.tensorflow.org/api_docs/python/tf/function for  more details.\n",
      "WARNING:tensorflow:11 out of the last 11 calls to <function Model.make_predict_function.<locals>.predict_function at 0x00000149C9E60280> triggered tf.function retracing. Tracing is expensive and the excessive number of tracings could be due to (1) creating @tf.function repeatedly in a loop, (2) passing tensors with different shapes, (3) passing Python objects instead of tensors. For (1), please define your @tf.function outside of the loop. For (2), @tf.function has experimental_relax_shapes=True option that relaxes argument shapes that can avoid unnecessary retracing. For (3), please refer to https://www.tensorflow.org/tutorials/customization/performance#python_or_tensor_args and https://www.tensorflow.org/api_docs/python/tf/function for  more details.\n",
      "WARNING:tensorflow:11 out of the last 11 calls to <function Model.make_predict_function.<locals>.predict_function at 0x00000149CAB924C0> triggered tf.function retracing. Tracing is expensive and the excessive number of tracings could be due to (1) creating @tf.function repeatedly in a loop, (2) passing tensors with different shapes, (3) passing Python objects instead of tensors. For (1), please define your @tf.function outside of the loop. For (2), @tf.function has experimental_relax_shapes=True option that relaxes argument shapes that can avoid unnecessary retracing. For (3), please refer to https://www.tensorflow.org/tutorials/customization/performance#python_or_tensor_args and https://www.tensorflow.org/api_docs/python/tf/function for  more details.\n",
      "WARNING:tensorflow:11 out of the last 11 calls to <function Model.make_predict_function.<locals>.predict_function at 0x000001499B67F790> triggered tf.function retracing. Tracing is expensive and the excessive number of tracings could be due to (1) creating @tf.function repeatedly in a loop, (2) passing tensors with different shapes, (3) passing Python objects instead of tensors. For (1), please define your @tf.function outside of the loop. For (2), @tf.function has experimental_relax_shapes=True option that relaxes argument shapes that can avoid unnecessary retracing. For (3), please refer to https://www.tensorflow.org/tutorials/customization/performance#python_or_tensor_args and https://www.tensorflow.org/api_docs/python/tf/function for  more details.\n",
      "WARNING:tensorflow:11 out of the last 11 calls to <function Model.make_predict_function.<locals>.predict_function at 0x00000149CBB0FAF0> triggered tf.function retracing. Tracing is expensive and the excessive number of tracings could be due to (1) creating @tf.function repeatedly in a loop, (2) passing tensors with different shapes, (3) passing Python objects instead of tensors. For (1), please define your @tf.function outside of the loop. For (2), @tf.function has experimental_relax_shapes=True option that relaxes argument shapes that can avoid unnecessary retracing. For (3), please refer to https://www.tensorflow.org/tutorials/customization/performance#python_or_tensor_args and https://www.tensorflow.org/api_docs/python/tf/function for  more details.\n"
     ]
    },
    {
     "name": "stdout",
     "output_type": "stream",
     "text": [
      "WARNING:tensorflow:11 out of the last 11 calls to <function Model.make_predict_function.<locals>.predict_function at 0x00000149A149BD30> triggered tf.function retracing. Tracing is expensive and the excessive number of tracings could be due to (1) creating @tf.function repeatedly in a loop, (2) passing tensors with different shapes, (3) passing Python objects instead of tensors. For (1), please define your @tf.function outside of the loop. For (2), @tf.function has experimental_relax_shapes=True option that relaxes argument shapes that can avoid unnecessary retracing. For (3), please refer to https://www.tensorflow.org/tutorials/customization/performance#python_or_tensor_args and https://www.tensorflow.org/api_docs/python/tf/function for  more details.\n",
      "District: 1\n",
      "Actuals: [10496, 9074, 10396, 10336, 11403, 11204, 11909, 11370, 11273, 10967, 9891, 9169]\n",
      "Predictions: [9209.493, 10094.565, 9840.131, 9613.232, 10187.5, 10819.84, 11353.261, 11664.54, 11291.413, 10784.873, 10630.568, 10221.867]\n"
     ]
    },
    {
     "data": {
      "image/png": "[encoded data removed]",
      "text/plain": [
       "<Figure size 432x288 with 1 Axes>"
      ]
     },
     "metadata": {
      "needs_background": "light"
     },
     "output_type": "display_data"
    },
    {
     "name": "stdout",
     "output_type": "stream",
     "text": [
      "R-squared: 0.187\n",
      "Mean Absolute Error:669.052\n",
      "Median Absolute Error:639.318\n",
      "Mean Squared Error:776.620\n"
     ]
    }
   ],
   "source": [
    "# prepare situation\n",
    "window = 3\n",
    "predTot = list()\n",
    "testTot = list()\n",
    "\n",
    "# walk forward over time steps in test\n",
    "for distNum in tqdm_notebook(range(len(train_d))):\n",
    "    \n",
    "    history = train_d[distNum]\n",
    "    test = test_d[distNum]\n",
    "    preds = []\n",
    "    for t in tqdm_notebook(range(len(test)), leave=False):\n",
    "        \n",
    "        length = len(history)\n",
    "        \n",
    "        # split into samples\n",
    "        X, y = split_sequence(history, window)\n",
    "        \n",
    "        # reshape from [samples, timesteps] into [samples, timesteps, features]\n",
    "        n_features = 1\n",
    "        X = X.reshape((X.shape[0], X.shape[1], n_features))\n",
    "        \n",
    "        model = Sequential()\n",
    "        model.add(Bidirectional(LSTM(50, activation='relu'), input_shape=(window, n_features)))\n",
    "        model.add(Dense(1))\n",
    "        model.compile(optimizer='adam', loss='mse')\n",
    "        \n",
    "        # fit model\n",
    "        model.fit(X, y, epochs=200, verbose=0)\n",
    "        \n",
    "        X_test = array([history[i] for i in range(length-window, length)])\n",
    "        X_test = X_test.reshape((1, window, n_features))\n",
    "        yhat = model.predict(X_test, verbose=0)\n",
    "        \n",
    "        obs = test[t]\n",
    "        preds.append(yhat.reshape((1,)))\n",
    "        history.append(obs)\n",
    "    \n",
    "    preds_new = [i[0] for i in preds]\n",
    "    print('District: {}'.format(distNum+1))\n",
    "    print('Actuals: {}'.format(test))\n",
    "    print('Predictions: {}'.format(preds_new))\n",
    "    \n",
    "    # plot\n",
    "    plt.plot(test)\n",
    "    plt.plot(preds_new, color='red')\n",
    "    plt.title('BROOKLYN MONTH WISE PREDICTION')\n",
    "    plt.xlabel(\"Month\")\n",
    "    plt.ylabel(\"Numbers of Crime\")\n",
    "    plt.legend([\"Actual\", \"Predition\"])\n",
    "    plt.show()\n",
    "    \n",
    "    testTot = testTot + test\n",
    "    predTot = predTot + preds_new\n",
    "    \n",
    "print('R-squared: %.3f' %r2_score(testTot, predTot))\n",
    "print('Mean Absolute Error:%.3f'%mean_absolute_error(testTot, predTot))\n",
    "print('Median Absolute Error:%.3f'%median_absolute_error(testTot, predTot))\n",
    "print('Mean Squared Error:%.3f'%mean_squared_error(testTot, predTot) ** .5)"
   ]
  },
  {
   "cell_type": "code",
   "execution_count": 14,
   "id": "025896b4",
   "metadata": {},
   "outputs": [],
   "source": [
    "test_d = []\n",
    "df = data_test[data_test['BORO_NM'] == 'MANHATTAN']\n",
    "df_gr = df.groupby(['Month']).count()\n",
    "test_d.append(list(df_gr['CMPLNT_FR_DT'].values))"
   ]
  },
  {
   "cell_type": "code",
   "execution_count": 16,
   "id": "3b12ca5d",
   "metadata": {},
   "outputs": [
    {
     "data": {
      "application/vnd.jupyter.widget-view+json": {
       "model_id": "1b3f017007fa45eab69b8cd569ff354a",
       "version_major": 2,
       "version_minor": 0
      },
      "text/plain": [
       "  0%|          | 0/1 [00:00<?, ?it/s]"
      ]
     },
     "metadata": {},
     "output_type": "display_data"
    },
    {
     "data": {
      "application/vnd.jupyter.widget-view+json": {
       "model_id": "",
       "version_major": 2,
       "version_minor": 0
      },
      "text/plain": [
       "  0%|          | 0/12 [00:00<?, ?it/s]"
      ]
     },
     "metadata": {},
     "output_type": "display_data"
    },
    {
     "name": "stdout",
     "output_type": "stream",
     "text": [
      "District: 1\n",
      "Actuals: [8656, 7735, 8775, 9028, 9734, 9919, 10127, 10001, 9907, 9862, 8854, 8239]\n",
      "Predictions: [8495.263, 8463.966, 7947.8765, 8377.752, 8700.167, 9315.607, 9645.578, 9903.342, 9904.687, 9838.746, 9771.692, 9140.82]\n"
     ]
    },
    {
     "data": {
      "image/png": "[encoded data removed]",
      "text/plain": [
       "<Figure size 432x288 with 1 Axes>"
      ]
     },
     "metadata": {
      "needs_background": "light"
     },
     "output_type": "display_data"
    },
    {
     "name": "stdout",
     "output_type": "stream",
     "text": [
      "R-squared: 0.278\n",
      "Mean Absolute Error:535.705\n",
      "Median Absolute Error:626.820\n",
      "Mean Squared Error:645.133\n"
     ]
    }
   ],
   "source": [
    "# prepare situation\n",
    "window = 3\n",
    "predTot = list()\n",
    "testTot = list()\n",
    "\n",
    "# walk forward over time steps in test\n",
    "for distNum in tqdm_notebook(range(len(train_d))):\n",
    "    \n",
    "    history = train_d[distNum]\n",
    "    test = test_d[distNum]\n",
    "    preds = []\n",
    "    for t in tqdm_notebook(range(len(test)), leave=False):\n",
    "        \n",
    "        length = len(history)\n",
    "        \n",
    "        # split into samples\n",
    "        X, y = split_sequence(history, window)\n",
    "        \n",
    "        # reshape from [samples, timesteps] into [samples, timesteps, features]\n",
    "        n_features = 1\n",
    "        X = X.reshape((X.shape[0], X.shape[1], n_features))\n",
    "        \n",
    "        \n",
    "        X_test = array([history[i] for i in range(length-window, length)])\n",
    "        X_test = X_test.reshape((1, window, n_features))\n",
    "        yhat = model.predict(X_test, verbose=0)\n",
    "        \n",
    "        obs = test[t]\n",
    "        preds.append(yhat.reshape((1,)))\n",
    "        history.append(obs)\n",
    "    \n",
    "    preds_new = [i[0] for i in preds]\n",
    "    print('District: {}'.format(distNum+1))\n",
    "    print('Actuals: {}'.format(test))\n",
    "    print('Predictions: {}'.format(preds_new))\n",
    "    \n",
    "    # plot\n",
    "    plt.plot(test)\n",
    "    plt.plot(preds_new, color='red')\n",
    "    plt.title('MANHATTAN MONTH WISE PREDICTION')\n",
    "    plt.xlabel(\"Month\")\n",
    "    plt.ylabel(\"Numbers of Crime\")\n",
    "    plt.legend([\"Actual\", \"Predition\"])\n",
    "    plt.show()\n",
    "    \n",
    "    testTot = testTot + test\n",
    "    predTot = predTot + preds_new\n",
    "\n",
    "print('R-squared: %.3f' %r2_score(testTot, predTot))\n",
    "print('Mean Absolute Error:%.3f'%mean_absolute_error(testTot, predTot))\n",
    "print('Median Absolute Error:%.3f'%median_absolute_error(testTot, predTot))\n",
    "print('Mean Squared Error:%.3f'%mean_squared_error(testTot, predTot) ** .5)"
   ]
  },
  {
   "cell_type": "code",
   "execution_count": null,
   "id": "cf527f43",
   "metadata": {},
   "outputs": [],
   "source": []
  }
 ],
 "metadata": {
  "kernelspec": {
   "display_name": "Python 3",
   "language": "python",
   "name": "python3"
  },
  "language_info": {
   "codemirror_mode": {
    "name": "ipython",
    "version": 3
   },
   "file_extension": ".py",
   "mimetype": "text/x-python",
   "name": "python",
   "nbconvert_exporter": "python",
   "pygments_lexer": "ipython3",
   "version": "3.8.5"
  }
 },
 "nbformat": 4,
 "nbformat_minor": 5
}
