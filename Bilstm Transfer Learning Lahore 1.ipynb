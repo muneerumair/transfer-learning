{
 "cells": [
  {
   "cell_type": "code",
   "execution_count": 1,
   "id": "6516d0e6",
   "metadata": {},
   "outputs": [],
   "source": [
    "import warnings\n",
    "warnings.filterwarnings('ignore')\n",
    "\n",
    "import pandas as pd\n",
    "import numpy as np\n",
    "import math\n",
    "import matplotlib.pyplot as plt\n",
    "from numpy import mean\n",
    "from numpy import array\n",
    "from prettytable import PrettyTable\n",
    "from tqdm import tqdm_notebook\n",
    "\n",
    "from keras.models import Sequential\n",
    "from keras.layers import LSTM\n",
    "from keras.layers import Dense\n",
    "from keras.layers import Bidirectional\n",
    "from keras.layers import Flatten\n",
    "from keras.layers import TimeDistributed\n",
    "from keras.layers.convolutional import Conv1D\n",
    "from keras.layers.convolutional import MaxPooling1D\n",
    "from statsmodels.tsa.arima_model import ARIMA\n",
    "\n",
    "from sklearn.metrics import mean_squared_error\n",
    "from sklearn.metrics import r2_score\n",
    "from sklearn.metrics import mean_absolute_error\n",
    "from sklearn.metrics import median_absolute_error"
   ]
  },
  {
   "cell_type": "code",
   "execution_count": 2,
   "id": "a345800d",
   "metadata": {},
   "outputs": [],
   "source": [
    "#this CSV file contains clean data\n",
    "data = pd.read_csv('./Lahore-clean-data.csv')\n",
    "data.index = pd.DatetimeIndex(data.Date_)\n",
    "data = data.sort_index()"
   ]
  },
  {
   "cell_type": "code",
   "execution_count": 3,
   "id": "72134840",
   "metadata": {},
   "outputs": [
    {
     "name": "stdout",
     "output_type": "stream",
     "text": [
      "Range of dates: 01/01/2013 0:00 to 31/12/2015 0:00\n"
     ]
    }
   ],
   "source": [
    "print('Range of dates: {} to {}'.format(data.Date_.min(), data.Date_.max()))"
   ]
  },
  {
   "cell_type": "code",
   "execution_count": 4,
   "id": "4d91798c",
   "metadata": {},
   "outputs": [],
   "source": [
    "data['Date_']=pd.to_datetime(data['Date_'])"
   ]
  },
  {
   "cell_type": "code",
   "execution_count": 5,
   "id": "3ec9bb02",
   "metadata": {},
   "outputs": [],
   "source": [
    "data['Year'] = data.index.year\n",
    "data['Month'] = data.index.month\n",
    "data['dayOfWeek'] = data.index.dayofweek\n",
    "data['dayOfMonth'] = data.index.day\n",
    "data['dayOfYear'] = data.index.dayofyear"
   ]
  },
  {
   "cell_type": "code",
   "execution_count": 6,
   "id": "10b35635",
   "metadata": {},
   "outputs": [],
   "source": [
    "def split_sequence(sequence, n_steps):\n",
    "    X, y = list(), list()\n",
    "    for i in range(len(sequence)):\n",
    "        # find the end of this pattern\n",
    "        end_ix = i + n_steps\n",
    "        # check if we are beyond the sequence\n",
    "        if end_ix > len(sequence)-1:\n",
    "            break\n",
    "        # gather input and output parts of the pattern\n",
    "        seq_x, seq_y = sequence[i:end_ix], sequence[end_ix]\n",
    "        X.append(seq_x)\n",
    "        y.append(seq_y)\n",
    "    return array(X), array(y)"
   ]
  },
  {
   "cell_type": "code",
   "execution_count": 7,
   "id": "6420aae1",
   "metadata": {},
   "outputs": [],
   "source": [
    "data_tr = data.loc['2013-01-01':'2013-12-31']\n",
    "data_test = data.loc['2014-01-01':'2014-12-31']"
   ]
  },
  {
   "cell_type": "code",
   "execution_count": 8,
   "id": "16e32c14",
   "metadata": {},
   "outputs": [
    {
     "data": {
      "text/plain": [
       "['Iqbal Town',\n",
       " 'Samanabad Town',\n",
       " 'Gulberg Town',\n",
       " 'Data Gunj Bakhsh Town',\n",
       " 'Nishtar Town',\n",
       " 'Ravi Town',\n",
       " 'Shalamar Town',\n",
       " 'Cantonment',\n",
       " 'Wahga Town',\n",
       " 'Aziz Bhatti Town']"
      ]
     },
     "execution_count": 8,
     "metadata": {},
     "output_type": "execute_result"
    }
   ],
   "source": [
    "listOfDist = list(data['Town_Name'].unique())\n",
    "listOfDist"
   ]
  },
  {
   "cell_type": "code",
   "execution_count": 9,
   "id": "2460b03c",
   "metadata": {},
   "outputs": [],
   "source": [
    "train_d = []\n",
    "df = data_tr[data_tr['Town_Name'] == 'Iqbal Town']\n",
    "df_gr = df.groupby(['Year', 'Month']).count()\n",
    "train_d.append(list(df_gr['Date_'].values))"
   ]
  },
  {
   "cell_type": "code",
   "execution_count": 10,
   "id": "bb9f2c5b",
   "metadata": {},
   "outputs": [],
   "source": [
    "test_d = []\n",
    "df = data_test[data_test['Town_Name'] == 'Iqbal Town']\n",
    "df_gr = df.groupby(['Month']).count()\n",
    "test_d.append(list(df_gr['Date_'].values))"
   ]
  },
  {
   "cell_type": "code",
   "execution_count": 11,
   "id": "eeaa6413",
   "metadata": {},
   "outputs": [
    {
     "data": {
      "application/vnd.jupyter.widget-view+json": {
       "model_id": "fb2f251612ee4257af8d728d2ea52e91",
       "version_major": 2,
       "version_minor": 0
      },
      "text/plain": [
       "  0%|          | 0/1 [00:00<?, ?it/s]"
      ]
     },
     "metadata": {},
     "output_type": "display_data"
    },
    {
     "data": {
      "application/vnd.jupyter.widget-view+json": {
       "model_id": "",
       "version_major": 2,
       "version_minor": 0
      },
      "text/plain": [
       "  0%|          | 0/12 [00:00<?, ?it/s]"
      ]
     },
     "metadata": {},
     "output_type": "display_data"
    },
    {
     "name": "stdout",
     "output_type": "stream",
     "text": [
      "WARNING:tensorflow:5 out of the last 5 calls to <function Model.make_predict_function.<locals>.predict_function at 0x00000252A3A35310> triggered tf.function retracing. Tracing is expensive and the excessive number of tracings could be due to (1) creating @tf.function repeatedly in a loop, (2) passing tensors with different shapes, (3) passing Python objects instead of tensors. For (1), please define your @tf.function outside of the loop. For (2), @tf.function has experimental_relax_shapes=True option that relaxes argument shapes that can avoid unnecessary retracing. For (3), please refer to https://www.tensorflow.org/tutorials/customization/performance#python_or_tensor_args and https://www.tensorflow.org/api_docs/python/tf/function for  more details.\n",
      "WARNING:tensorflow:6 out of the last 6 calls to <function Model.make_predict_function.<locals>.predict_function at 0x00000252AA91ECA0> triggered tf.function retracing. Tracing is expensive and the excessive number of tracings could be due to (1) creating @tf.function repeatedly in a loop, (2) passing tensors with different shapes, (3) passing Python objects instead of tensors. For (1), please define your @tf.function outside of the loop. For (2), @tf.function has experimental_relax_shapes=True option that relaxes argument shapes that can avoid unnecessary retracing. For (3), please refer to https://www.tensorflow.org/tutorials/customization/performance#python_or_tensor_args and https://www.tensorflow.org/api_docs/python/tf/function for  more details.\n",
      "WARNING:tensorflow:7 out of the last 7 calls to <function Model.make_predict_function.<locals>.predict_function at 0x00000252A48A4CA0> triggered tf.function retracing. Tracing is expensive and the excessive number of tracings could be due to (1) creating @tf.function repeatedly in a loop, (2) passing tensors with different shapes, (3) passing Python objects instead of tensors. For (1), please define your @tf.function outside of the loop. For (2), @tf.function has experimental_relax_shapes=True option that relaxes argument shapes that can avoid unnecessary retracing. For (3), please refer to https://www.tensorflow.org/tutorials/customization/performance#python_or_tensor_args and https://www.tensorflow.org/api_docs/python/tf/function for  more details.\n",
      "WARNING:tensorflow:8 out of the last 8 calls to <function Model.make_predict_function.<locals>.predict_function at 0x00000252A4AAFCA0> triggered tf.function retracing. Tracing is expensive and the excessive number of tracings could be due to (1) creating @tf.function repeatedly in a loop, (2) passing tensors with different shapes, (3) passing Python objects instead of tensors. For (1), please define your @tf.function outside of the loop. For (2), @tf.function has experimental_relax_shapes=True option that relaxes argument shapes that can avoid unnecessary retracing. For (3), please refer to https://www.tensorflow.org/tutorials/customization/performance#python_or_tensor_args and https://www.tensorflow.org/api_docs/python/tf/function for  more details.\n",
      "WARNING:tensorflow:9 out of the last 9 calls to <function Model.make_predict_function.<locals>.predict_function at 0x00000252AAFEA0D0> triggered tf.function retracing. Tracing is expensive and the excessive number of tracings could be due to (1) creating @tf.function repeatedly in a loop, (2) passing tensors with different shapes, (3) passing Python objects instead of tensors. For (1), please define your @tf.function outside of the loop. For (2), @tf.function has experimental_relax_shapes=True option that relaxes argument shapes that can avoid unnecessary retracing. For (3), please refer to https://www.tensorflow.org/tutorials/customization/performance#python_or_tensor_args and https://www.tensorflow.org/api_docs/python/tf/function for  more details.\n",
      "WARNING:tensorflow:10 out of the last 10 calls to <function Model.make_predict_function.<locals>.predict_function at 0x00000252A3D95160> triggered tf.function retracing. Tracing is expensive and the excessive number of tracings could be due to (1) creating @tf.function repeatedly in a loop, (2) passing tensors with different shapes, (3) passing Python objects instead of tensors. For (1), please define your @tf.function outside of the loop. For (2), @tf.function has experimental_relax_shapes=True option that relaxes argument shapes that can avoid unnecessary retracing. For (3), please refer to https://www.tensorflow.org/tutorials/customization/performance#python_or_tensor_args and https://www.tensorflow.org/api_docs/python/tf/function for  more details.\n",
      "WARNING:tensorflow:11 out of the last 11 calls to <function Model.make_predict_function.<locals>.predict_function at 0x00000252AAD09DC0> triggered tf.function retracing. Tracing is expensive and the excessive number of tracings could be due to (1) creating @tf.function repeatedly in a loop, (2) passing tensors with different shapes, (3) passing Python objects instead of tensors. For (1), please define your @tf.function outside of the loop. For (2), @tf.function has experimental_relax_shapes=True option that relaxes argument shapes that can avoid unnecessary retracing. For (3), please refer to https://www.tensorflow.org/tutorials/customization/performance#python_or_tensor_args and https://www.tensorflow.org/api_docs/python/tf/function for  more details.\n",
      "WARNING:tensorflow:11 out of the last 11 calls to <function Model.make_predict_function.<locals>.predict_function at 0x00000252B1009160> triggered tf.function retracing. Tracing is expensive and the excessive number of tracings could be due to (1) creating @tf.function repeatedly in a loop, (2) passing tensors with different shapes, (3) passing Python objects instead of tensors. For (1), please define your @tf.function outside of the loop. For (2), @tf.function has experimental_relax_shapes=True option that relaxes argument shapes that can avoid unnecessary retracing. For (3), please refer to https://www.tensorflow.org/tutorials/customization/performance#python_or_tensor_args and https://www.tensorflow.org/api_docs/python/tf/function for  more details.\n",
      "Town: 1\n",
      "Actuals: [900, 740, 812, 793, 806, 795, 847, 737, 842, 863, 945, 771]\n",
      "Predictions: [889.7399, 1192.5167, 1006.38586, 633.6195, 1215.1173, 935.5739, 794.5526, 829.5236, 745.0119, 877.7638, 858.0133, 929.1368]\n"
     ]
    },
    {
     "data": {
      "image/png": "[encoded data removed]",
      "text/plain": [
       "<Figure size 432x288 with 1 Axes>"
      ]
     },
     "metadata": {
      "needs_background": "light"
     },
     "output_type": "display_data"
    },
    {
     "name": "stdout",
     "output_type": "stream",
     "text": [
      "R-squared: -11.003\n",
      "Mean Absolute Error:155.673\n",
      "Median Absolute Error:118.781\n",
      "Mean Squared Error:205.895\n"
     ]
    }
   ],
   "source": [
    "# prepare situation\n",
    "window = 3\n",
    "predTot = list()\n",
    "testTot = list()\n",
    "\n",
    "# walk forward over time steps in test\n",
    "for distNum in tqdm_notebook(range(len(train_d))):\n",
    "    \n",
    "    history = train_d[distNum]\n",
    "    test = test_d[distNum]\n",
    "    preds = []\n",
    "    for t in tqdm_notebook(range(len(test)), leave=False):\n",
    "        \n",
    "        length = len(history)\n",
    "        \n",
    "        # split into samples\n",
    "        X, y = split_sequence(history, window)\n",
    "        \n",
    "        # reshape from [samples, timesteps] into [samples, timesteps, features]\n",
    "        n_features = 1\n",
    "        X = X.reshape((X.shape[0], X.shape[1], n_features))\n",
    "        \n",
    "        model = Sequential()\n",
    "        model.add(Bidirectional(LSTM(50, activation='relu'), input_shape=(window, n_features)))\n",
    "        model.add(Dense(1))\n",
    "        model.compile(optimizer='adam', loss='mse')\n",
    "        \n",
    "        # fit model\n",
    "        model.fit(X, y, epochs=200, verbose=0)\n",
    "        \n",
    "        X_test = array([history[i] for i in range(length-window, length)])\n",
    "        X_test = X_test.reshape((1, window, n_features))\n",
    "        yhat = model.predict(X_test, verbose=0)\n",
    "        \n",
    "        obs = test[t]\n",
    "        preds.append(yhat.reshape((1,)))\n",
    "        history.append(obs)\n",
    "    \n",
    "    preds_new = [i[0] for i in preds]\n",
    "    print('Town: {}'.format(distNum+1))\n",
    "    print('Actuals: {}'.format(test))\n",
    "    print('Predictions: {}'.format(preds_new))\n",
    "    \n",
    "    # plot\n",
    "    plt.plot(test)\n",
    "    plt.plot(preds_new, color='red')\n",
    "    plt.title('Iqbal Town MONTH WISE PREDICTION')\n",
    "    plt.xlabel(\"Month\")\n",
    "    plt.ylabel(\"Numbers of Crime\")\n",
    "    plt.legend([\"Actual\", \"Predition\"])\n",
    "    plt.show()\n",
    "    \n",
    "    testTot = testTot + test\n",
    "    predTot = predTot + preds_new\n",
    "    \n",
    "print('R-squared: %.3f' %r2_score(testTot, predTot))\n",
    "print('Mean Absolute Error:%.3f'%mean_absolute_error(testTot, predTot))\n",
    "print('Median Absolute Error:%.3f'%median_absolute_error(testTot, predTot))\n",
    "print('Mean Squared Error:%.3f'%mean_squared_error(testTot, predTot) ** .5)"
   ]
  },
  {
   "cell_type": "code",
   "execution_count": 12,
   "id": "025896b4",
   "metadata": {},
   "outputs": [],
   "source": [
    "test_d = []\n",
    "df = data_test[data_test['Town_Name'] == 'Nishtar Town']\n",
    "df_gr = df.groupby(['Month']).count()\n",
    "test_d.append(list(df_gr['Date_'].values))"
   ]
  },
  {
   "cell_type": "code",
   "execution_count": 14,
   "id": "3b12ca5d",
   "metadata": {},
   "outputs": [
    {
     "data": {
      "application/vnd.jupyter.widget-view+json": {
       "model_id": "149dd592beb14ed6aa2de6c39e193c26",
       "version_major": 2,
       "version_minor": 0
      },
      "text/plain": [
       "  0%|          | 0/1 [00:00<?, ?it/s]"
      ]
     },
     "metadata": {},
     "output_type": "display_data"
    },
    {
     "data": {
      "application/vnd.jupyter.widget-view+json": {
       "model_id": "",
       "version_major": 2,
       "version_minor": 0
      },
      "text/plain": [
       "  0%|          | 0/12 [00:00<?, ?it/s]"
      ]
     },
     "metadata": {},
     "output_type": "display_data"
    },
    {
     "name": "stdout",
     "output_type": "stream",
     "text": [
      "Town: 1\n",
      "Actuals: [450, 461, 445, 440, 475, 362, 379, 400, 406, 443, 395, 371]\n",
      "Predictions: [445.7823, 477.51215, 636.24207, 500.73666, 491.25848, 511.52774, 474.2443, 204.8216, 480.82916, 479.7361, 500.59464, 475.32852]\n"
     ]
    },
    {
     "data": {
      "image/png": "[encoded data removed]",
      "text/plain": [
       "<Figure size 432x288 with 1 Axes>"
      ]
     },
     "metadata": {
      "needs_background": "light"
     },
     "output_type": "display_data"
    },
    {
     "name": "stdout",
     "output_type": "stream",
     "text": [
      "R-squared: -7.811\n",
      "Mean Absolute Error:87.534\n",
      "Median Absolute Error:85.037\n",
      "Mean Squared Error:107.752\n"
     ]
    }
   ],
   "source": [
    "# prepare situation\n",
    "window = 3\n",
    "predTot = list()\n",
    "testTot = list()\n",
    "\n",
    "# walk forward over time steps in test\n",
    "for distNum in tqdm_notebook(range(len(train_d))):\n",
    "    \n",
    "    history = train_d[distNum]\n",
    "    test = test_d[distNum]\n",
    "    preds = []\n",
    "    for t in tqdm_notebook(range(len(test)), leave=False):\n",
    "        \n",
    "        length = len(history)\n",
    "        \n",
    "        # split into samples\n",
    "        X, y = split_sequence(history, window)\n",
    "        \n",
    "        # reshape from [samples, timesteps] into [samples, timesteps, features]\n",
    "        n_features = 1\n",
    "        X = X.reshape((X.shape[0], X.shape[1], n_features))\n",
    "        \n",
    "        \n",
    "        X_test = array([history[i] for i in range(length-window, length)])\n",
    "        X_test = X_test.reshape((1, window, n_features))\n",
    "        yhat = model.predict(X_test, verbose=0)\n",
    "        \n",
    "        obs = test[t]\n",
    "        preds.append(yhat.reshape((1,)))\n",
    "        history.append(obs)\n",
    "    \n",
    "    preds_new = [i[0] for i in preds]\n",
    "    print('Town: {}'.format(distNum+1))\n",
    "    print('Actuals: {}'.format(test))\n",
    "    print('Predictions: {}'.format(preds_new))\n",
    "    \n",
    "    # plot\n",
    "    plt.plot(test)\n",
    "    plt.plot(preds_new, color='red')\n",
    "    plt.title('Nishtar Town MONTH WISE PREDICTION')\n",
    "    plt.xlabel(\"Month\")\n",
    "    plt.ylabel(\"Numbers of Crime\")\n",
    "    plt.legend([\"Actual\", \"Predition\"])\n",
    "    plt.show()\n",
    "    \n",
    "    testTot = testTot + test\n",
    "    predTot = predTot + preds_new\n",
    "\n",
    "print('R-squared: %.3f' %r2_score(testTot, predTot))\n",
    "print('Mean Absolute Error:%.3f'%mean_absolute_error(testTot, predTot))\n",
    "print('Median Absolute Error:%.3f'%median_absolute_error(testTot, predTot))\n",
    "print('Mean Squared Error:%.3f'%mean_squared_error(testTot, predTot) ** .5)"
   ]
  },
  {
   "cell_type": "code",
   "execution_count": null,
   "id": "cf527f43",
   "metadata": {},
   "outputs": [],
   "source": []
  }
 ],
 "metadata": {
  "kernelspec": {
   "display_name": "Python 3",
   "language": "python",
   "name": "python3"
  },
  "language_info": {
   "codemirror_mode": {
    "name": "ipython",
    "version": 3
   },
   "file_extension": ".py",
   "mimetype": "text/x-python",
   "name": "python",
   "nbconvert_exporter": "python",
   "pygments_lexer": "ipython3",
   "version": "3.8.5"
  }
 },
 "nbformat": 4,
 "nbformat_minor": 5
}
